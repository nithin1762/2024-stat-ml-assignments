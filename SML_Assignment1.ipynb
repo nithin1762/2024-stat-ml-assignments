{
  "nbformat": 4,
  "nbformat_minor": 0,
  "metadata": {
    "colab": {
      "provenance": [],
      "include_colab_link": true
    },
    "kernelspec": {
      "name": "python3",
      "display_name": "Python 3"
    },
    "language_info": {
      "name": "python"
    }
  },
  "cells": [
    {
      "cell_type": "markdown",
      "metadata": {
        "id": "view-in-github",
        "colab_type": "text"
      },
      "source": [
        "<a href=\"https://colab.research.google.com/github/nithin1762/2024-stat-ml-assignments/blob/main/SML_Assignment1.ipynb\" target=\"_parent\"><img src=\"https://colab.research.google.com/assets/colab-badge.svg\" alt=\"Open In Colab\"/></a>"
      ]
    },
    {
      "cell_type": "code",
      "execution_count": null,
      "metadata": {
        "id": "JRlwcrqoHad4"
      },
      "outputs": [],
      "source": [
        "import matplotlib.pyplot as plt\n",
        "import numpy as np"
      ]
    },
    {
      "cell_type": "code",
      "source": [
        "X = [2.3, 2.5, 3.6, 2.8, 3.1, 2.9, 3.2, 2.7, 2.8, 3.0]"
      ],
      "metadata": {
        "id": "uDWv8YZ3HoEf"
      },
      "execution_count": null,
      "outputs": []
    },
    {
      "cell_type": "code",
      "source": [
        "plt.hist(X, bins=5, edgecolor='black', linewidth=1.2, density=True)\n",
        "plt.ylabel('Density')\n",
        "plt.xlabel('X')\n",
        "plt.title('Histogram')\n",
        "plt.show()"
      ],
      "metadata": {
        "colab": {
          "base_uri": "https://localhost:8080/",
          "height": 472
        },
        "id": "UMD6W_N_JjSd",
        "outputId": "1fc7cdbe-70c5-4f92-c6f2-2051d59e9bce"
      },
      "execution_count": null,
      "outputs": [
        {
          "output_type": "display_data",
          "data": {
            "text/plain": [
              "<Figure size 640x480 with 1 Axes>"
            ],
            "image/png": "[encoded data removed]"
          },
          "metadata": {}
        }
      ]
    },
    {
      "cell_type": "code",
      "source": [
        "import scipy.stats as stats"
      ],
      "metadata": {
        "id": "3P3f9skkZO1o"
      },
      "execution_count": null,
      "outputs": []
    },
    {
      "cell_type": "code",
      "source": [
        "x = [4, 5, 8, 2, 4, 2, 5]\n",
        "y = [5, 6, 8, 3, 8, 3, 7, 8]\n",
        "\n",
        "x_mean = np.mean(x)\n",
        "y_mean = np.mean(y)\n",
        "\n",
        "x_median = np.median(x)\n",
        "y_median = np.median(y)\n",
        "\n",
        "x_mode = stats.mode(x)\n",
        "y_mode = stats.mode(y)\n",
        "\n",
        "x_std = np.std(x)\n",
        "y_std = np.std(y)\n",
        "\n",
        "x_iqr = stats.iqr(x)\n",
        "y_iqr = stats.iqr(y)\n",
        "\n",
        "x_std = np.std(x)\n",
        "y_std = np.std(y)\n",
        "\n",
        "x_var = np.var(x)\n",
        "y_var = np.var(y)\n",
        "\n",
        "x_range = np.max(x)\n",
        "y_range = np.max(y)\n",
        "\n",
        "x_skew = stats.skew(x)\n",
        "y_skew = stats.skew(y)\n",
        "\n",
        "x_kurt = stats.kurtosis(x)\n",
        "y_kurt = stats.kurtosis(y)"
      ],
      "metadata": {
        "id": "fGvvL_RwUq-f"
      },
      "execution_count": null,
      "outputs": []
    },
    {
      "cell_type": "code",
      "source": [
        "print(\"Mean of x: \", x_mean)\n",
        "print(\"Median of x: \",x_median)\n",
        "print(\"Mode of x: \", x_mode)\n",
        "print(\"Range of x: \", x_range)\n",
        "print(\"Standard deviation of x: \", x_std)\n",
        "print(\"Interquatile Range of x: \", x_iqr)\n",
        "print(\"Variance of x: \", x_var)\n",
        "print(\"Skewness of x: \", x_skew)\n",
        "print(\"Kurtosis of x: \", x_kurt)"
      ],
      "metadata": {
        "colab": {
          "base_uri": "https://localhost:8080/"
        },
        "id": "JSx3tZ9fbkcd",
        "outputId": "8bc31764-debc-43c0-9eda-d919b57dbe4a"
      },
      "execution_count": null,
      "outputs": [
        {
          "output_type": "stream",
          "name": "stdout",
          "text": [
            "Mean of x:  4.285714285714286\n",
            "Median of x:  4.0\n",
            "Mode of x:  ModeResult(mode=2, count=2)\n",
            "Range of x:  8\n",
            "Standard deviation of x:  1.9059520091609048\n",
            "Interquatile Range of x:  2.0\n",
            "Variance of x:  3.6326530612244894\n",
            "Skewness of x:  0.5785710902698393\n",
            "Kurtosis of x:  -0.34282287589950755\n"
          ]
        }
      ]
    },
    {
      "cell_type": "code",
      "source": [
        "print(\"Mean of y: \", y_mean)\n",
        "print(\"Median of y: \",y_median)\n",
        "print(\"Mode of y: \", y_mode)\n",
        "print(\"Range of y: \", y_range)\n",
        "print(\"Standard deviation of y: \", y_std)\n",
        "print(\"Interquatile Range of y: \", y_iqr)\n",
        "print(\"Variance of y: \", y_var)\n",
        "print(\"Skewness of y: \", y_skew)\n",
        "print(\"Kurtosis of y: \", y_kurt)"
      ],
      "metadata": {
        "colab": {
          "base_uri": "https://localhost:8080/"
        },
        "id": "eKOYzf58btbj",
        "outputId": "315841ea-3565-42ff-e7cb-f45d98e61a84"
      },
      "execution_count": null,
      "outputs": [
        {
          "output_type": "stream",
          "name": "stdout",
          "text": [
            "Mean of y:  6.0\n",
            "Median of y:  6.5\n",
            "Mode of y:  ModeResult(mode=8, count=3)\n",
            "Range of y:  8\n",
            "Standard deviation of y:  2.0\n",
            "Interquatile Range of y:  3.5\n",
            "Variance of y:  4.0\n",
            "Skewness of y:  -0.46875\n",
            "Kurtosis of y:  -1.34375\n"
          ]
        }
      ]
    },
    {
      "cell_type": "code",
      "source": [
        "import pandas as pd"
      ],
      "metadata": {
        "id": "paZ4Hxh-dVvw"
      },
      "execution_count": null,
      "outputs": []
    },
    {
      "cell_type": "code",
      "source": [
        "h = pd.read_csv('housing.csv')\n",
        "p = h['population']\n",
        "lg = h['longitude']\n",
        "ln = h['latitude']\n",
        "h_med = h['median_house_value']\n",
        "h_age = h['housing_median_age']\n",
        "t_rooms = h['total_rooms']\n",
        "t_bedrooms = h['total_bedrooms']\n",
        "households = h['households']\n",
        "med_income = h['median_income']\n",
        "\n",
        "\n",
        "longitude = lg.to_numpy()\n",
        "latitude = ln.to_numpy()\n",
        "population = p.to_numpy()\n",
        "households = households.to_numpy()\n",
        "median_income = med_income.to_numpy()\n",
        "total_rooms = t_rooms.to_numpy()\n",
        "total_bedrooms = t_bedrooms.to_numpy()\n",
        "shouse_median_age = h_age.to_numpy()\n",
        "median_house_value = h_med.to_numpy()"
      ],
      "metadata": {
        "id": "CEcQg_MGqiiq"
      },
      "execution_count": null,
      "outputs": []
    },
    {
      "cell_type": "code",
      "source": [
        "longitude_mean = np.mean(longitude)\n",
        "longitude_median = np.median(longitude)\n",
        "longitude_mode = stats.mode(longitude)\n",
        "longitude_range = np.max(longitude)\n",
        "longitude_var = np.var(longitude)\n",
        "longitude_std = np.std(longitude)\n",
        "longitude_iqr = stats.iqr(longitude)\n",
        "longitude_skew = stats.skew(longitude)\n",
        "longitude_kurt = stats.kurtosis(longitude)\n",
        "\n",
        "print(\"Mean of longitude: \", longitude_mean)\n",
        "print(\"Median of longitude: \",longitude_median)\n",
        "print(\"Mode of longitude: \", longitude_mode)\n",
        "print(\"Range of longitude: \", longitude_range)\n",
        "print(\"Standard deviation of longitude: \", longitude_std)\n",
        "print(\"Interquatile Range of longitude: \", longitude_iqr)\n",
        "print(\"Variance of longitude: \", longitude_var)\n",
        "print(\"Skewness of longitude: \", longitude_skew)\n",
        "print(\"Kurtosis of longitude: \", longitude_kurt)"
      ],
      "metadata": {
        "colab": {
          "base_uri": "https://localhost:8080/"
        },
        "id": "ihxmsmS42vfC",
        "outputId": "194b6e69-c2d3-40b4-e08c-f2903d14439e"
      },
      "execution_count": null,
      "outputs": [
        {
          "output_type": "stream",
          "name": "stdout",
          "text": [
            "Mean of longitude:  -119.56970445736432\n",
            "Median of longitude:  -118.49\n",
            "Mode of longitude:  ModeResult(mode=-118.31, count=162)\n",
            "Range of longitude:  -114.31\n",
            "Standard deviation of longitude:  2.003483187746976\n",
            "Interquatile Range of longitude:  3.789999999999992\n",
            "Variance of longitude:  4.0139448835847835\n",
            "Skewness of longitude:  -0.29777956498586855\n",
            "Kurtosis of longitude:  -1.3301208448425363\n"
          ]
        }
      ]
    },
    {
      "cell_type": "code",
      "source": [
        "latitude_mean = np.mean(latitude)\n",
        "latitude_median = np.median(latitude)\n",
        "latitude_mode = stats.mode(latitude)\n",
        "latitude_range = np.max(latitude)\n",
        "latitude_var = np.var(latitude)\n",
        "latitude_std = np.std(latitude)\n",
        "latitude_iqr = stats.iqr(latitude)\n",
        "latitude_skew = stats.skew(latitude)\n",
        "latitude_kurt = stats.kurtosis(latitude)\n",
        "\n",
        "print(\"Mean of latitude: \", latitude_mean)\n",
        "print(\"Median of latitude: \",latitude_median)\n",
        "print(\"Mode of latitude: \", latitude_mode)\n",
        "print(\"Range of latitude: \", latitude_range)\n",
        "print(\"Standard deviation of latitude: \", latitude_std)\n",
        "print(\"Interquatile Range of latitude: \", latitude_iqr)\n",
        "print(\"Variance of latitude: \", latitude_var)\n",
        "print(\"Skewness of latitude: \", latitude_skew)\n",
        "print(\"Kurtosis of latitude: \", latitude_kurt)"
      ],
      "metadata": {
        "colab": {
          "base_uri": "https://localhost:8080/"
        },
        "id": "E675xOXA2vRz",
        "outputId": "c9d39910-eec8-414f-f3b0-37b494498aa2"
      },
      "execution_count": null,
      "outputs": [
        {
          "output_type": "stream",
          "name": "stdout",
          "text": [
            "Mean of latitude:  35.63186143410853\n",
            "Median of latitude:  34.26\n",
            "Mode of latitude:  ModeResult(mode=34.06, count=244)\n",
            "Range of latitude:  41.95\n",
            "Standard deviation of latitude:  2.135900653797483\n",
            "Interquatile Range of latitude:  3.780000000000001\n",
            "Variance of latitude:  4.562071602892517\n",
            "Skewness of latitude:  0.46591914016270397\n",
            "Kurtosis of latitude:  -1.117779708313892\n"
          ]
        }
      ]
    },
    {
      "cell_type": "code",
      "source": [
        "population_mean = np.mean(population)\n",
        "population_median = np.median(population)\n",
        "population_mode = stats.mode(population)\n",
        "population_range = np.max(population)\n",
        "population_var = np.var(population)\n",
        "population_std = np.std(population)\n",
        "population_iqr = stats.iqr(population)\n",
        "population_skew = stats.skew(population)\n",
        "population_kurt = stats.kurtosis(population)\n",
        "\n",
        "print(\"Mean of population: \", population_mean)\n",
        "print(\"Median of population: \",population_median)\n",
        "print(\"Mode of population: \", population_mode)\n",
        "print(\"Range of population: \", population_range)\n",
        "print(\"Standard deviation of population: \", population_std)\n",
        "print(\"Interquatile Range of population: \", population_iqr)\n",
        "print(\"Variance of population: \", population_var)\n",
        "print(\"Skewness of population: \", population_skew)\n",
        "print(\"Kurtosis of population: \", population_kurt)"
      ],
      "metadata": {
        "colab": {
          "base_uri": "https://localhost:8080/"
        },
        "id": "3zWaaUri2ZRb",
        "outputId": "2e8b2879-6490-41d9-d65f-188fb8e12e1f"
      },
      "execution_count": null,
      "outputs": [
        {
          "output_type": "stream",
          "name": "stdout",
          "text": [
            "Mean of population:  1425.4767441860465\n",
            "Median of population:  1166.0\n",
            "Mode of population:  ModeResult(mode=891.0, count=25)\n",
            "Range of population:  35682.0\n",
            "Standard deviation of population:  1132.434687757615\n",
            "Interquatile Range of population:  938.0\n",
            "Variance of population:  1282408.3220366866\n",
            "Skewness of population:  4.93549950885852\n",
            "Kurtosis of population:  73.53500881922278\n"
          ]
        }
      ]
    },
    {
      "cell_type": "code",
      "source": [
        "households_mean = np.mean(households)\n",
        "households_median = np.median(households)\n",
        "households_mode = stats.mode(households)\n",
        "households_range = np.max(households)\n",
        "households_var = np.var(households)\n",
        "households_std = np.std(households)\n",
        "households_iqr = stats.iqr(households)\n",
        "households_skew = stats.skew(households)\n",
        "households_kurt = stats.kurtosis(households)\n",
        "\n",
        "print(\"Mean of households: \", households_mean)\n",
        "print(\"Median of households: \",households_median)\n",
        "print(\"Mode of households: \", households_mode)\n",
        "print(\"Range of households: \", households_range)\n",
        "print(\"Standard deviation of households: \", households_std)\n",
        "print(\"Interquatile Range of households: \", households_iqr)\n",
        "print(\"Variance of households: \", households_var)\n",
        "print(\"Skewness of households: \", households_skew)\n",
        "print(\"Kurtosis of households: \", households_kurt)"
      ],
      "metadata": {
        "colab": {
          "base_uri": "https://localhost:8080/"
        },
        "id": "j1nLPKvB2Y9W",
        "outputId": "e17a5f37-24bf-44b4-c102-de337c7935bf"
      },
      "execution_count": null,
      "outputs": [
        {
          "output_type": "stream",
          "name": "stdout",
          "text": [
            "Mean of households:  499.5396802325581\n",
            "Median of households:  409.0\n",
            "Mode of households:  ModeResult(mode=306.0, count=57)\n",
            "Range of households:  6082.0\n",
            "Standard deviation of households:  382.3204908552571\n",
            "Interquatile Range of households:  325.0\n",
            "Variance of households:  146168.95772780472\n",
            "Skewness of households:  3.4101898550856307\n",
            "Kurtosis of households:  22.052354233642966\n"
          ]
        }
      ]
    },
    {
      "cell_type": "code",
      "source": [
        "median_income_mean = np.mean(median_income)\n",
        "median_income_median = np.median(median_income)\n",
        "median_income_mode = stats.mode(median_income)\n",
        "median_income_range = np.max(median_income)\n",
        "median_income_var = np.var(median_income)\n",
        "median_income_std = np.std(median_income)\n",
        "median_income_iqr = stats.iqr(median_income)\n",
        "median_income_skew = stats.skew(median_income)\n",
        "median_income_kurt = stats.kurtosis(median_income)\n",
        "\n",
        "print(\"Mean of median income: \", median_income_mean)\n",
        "print(\"Median of median income: \",median_income_median)\n",
        "print(\"Mode of median income: \", median_income_mode)\n",
        "print(\"Range of median income: \", median_income_range)\n",
        "print(\"Standard deviation of median income: \", median_income_std)\n",
        "print(\"Interquatile Range of median income: \", median_income_iqr)\n",
        "print(\"Variance of median income: \", median_income_var)\n",
        "print(\"Skewness of median income: \", median_income_skew)\n",
        "print(\"Kurtosis of median income: \", median_income_kurt)"
      ],
      "metadata": {
        "colab": {
          "base_uri": "https://localhost:8080/"
        },
        "id": "kynNb7Gt2Y3P",
        "outputId": "95dbe389-4bb9-4b20-c1c0-b0da041d84c5"
      },
      "execution_count": null,
      "outputs": [
        {
          "output_type": "stream",
          "name": "stdout",
          "text": [
            "Mean of median income:  3.8706710029069766\n",
            "Median of median income:  3.5347999999999997\n",
            "Mode of median income:  ModeResult(mode=3.125, count=49)\n",
            "Range of median income:  15.0001\n",
            "Standard deviation of median income:  1.8997756945748738\n",
            "Interquatile Range of median income:  2.17985\n",
            "Variance of median income:  3.609147689697444\n",
            "Skewness of median income:  1.64653702990008\n",
            "Kurtosis of median income:  4.951033760409659\n"
          ]
        }
      ]
    },
    {
      "cell_type": "code",
      "source": [
        "total_rooms_mean = np.mean(total_rooms)\n",
        "total_rooms_median = np.median(total_rooms)\n",
        "total_rooms_mode = stats.mode(total_rooms)\n",
        "total_rooms_range = np.max(total_rooms)\n",
        "total_rooms_var = np.var(total_rooms)\n",
        "total_rooms_std = np.std(total_rooms)\n",
        "total_rooms_iqr = stats.iqr(total_rooms)\n",
        "total_rooms_skew = stats.skew(total_rooms)\n",
        "total_rooms_kurt = stats.kurtosis(total_rooms)\n",
        "\n",
        "print(\"Mean of total rooms: \", total_rooms_mean)\n",
        "print(\"Median of total rooms: \",total_rooms_median)\n",
        "print(\"Mode of total rooms: \", total_rooms_mode)\n",
        "print(\"Range of total rooms: \", total_rooms_range)\n",
        "print(\"Standard deviation of total rooms: \", total_rooms_std)\n",
        "print(\"Interquatile Range of total rooms: \", total_rooms_iqr)\n",
        "print(\"Variance of total rooms: \", total_rooms_var)\n",
        "print(\"Skewness of total rooms: \", total_rooms_skew)\n",
        "print(\"Kurtosis of total rooms: \", total_rooms_kurt)"
      ],
      "metadata": {
        "colab": {
          "base_uri": "https://localhost:8080/"
        },
        "id": "cXEqZdcs2Yx8",
        "outputId": "bf4ebb13-ebb9-4e13-dd9d-204be2af7116"
      },
      "execution_count": null,
      "outputs": [
        {
          "output_type": "stream",
          "name": "stdout",
          "text": [
            "Mean of total rooms:  2635.7630813953488\n",
            "Median of total rooms:  2127.0\n",
            "Mode of total rooms:  ModeResult(mode=1527.0, count=18)\n",
            "Range of total rooms:  39320.0\n",
            "Standard deviation of total rooms:  2181.5624017359723\n",
            "Interquatile Range of total rooms:  1700.25\n",
            "Variance of total rooms:  4759214.512668024\n",
            "Skewness of total rooms:  4.147042038773343\n",
            "Kurtosis of total rooms:  32.6227320729488\n"
          ]
        }
      ]
    },
    {
      "cell_type": "code",
      "source": [
        "total_bedrooms_mean = np.mean(total_bedrooms)\n",
        "total_bedrooms_median = np.median(total_bedrooms)\n",
        "total_bedrooms_mode = stats.mode(total_bedrooms)\n",
        "total_bedrooms_range = np.max(total_bedrooms)\n",
        "total_bedrooms_var = np.var(total_bedrooms)\n",
        "total_bedrooms_std = np.std(total_bedrooms)\n",
        "total_bedrooms_iqr = stats.iqr(total_bedrooms)\n",
        "total_bedrooms_skew = stats.skew(total_bedrooms)\n",
        "total_bedrooms_kurt = stats.kurtosis(total_bedrooms)\n",
        "\n",
        "print(\"Mean of total bedrooms: \", total_bedrooms_mean)\n",
        "print(\"Median of total bedrooms: \",total_bedrooms_median)\n",
        "print(\"Mode of total bedrooms: \", total_bedrooms_mode)\n",
        "print(\"Range of total bedrooms: \", total_bedrooms_range)\n",
        "print(\"Standard deviation of total bedrooms: \", total_bedrooms_std)\n",
        "print(\"Interquatile Range of total bedrooms: \", total_bedrooms_iqr)\n",
        "print(\"Variance of total bedrooms: \", total_bedrooms_var)\n",
        "print(\"Skewness of total bedrooms: \", total_bedrooms_skew)\n",
        "print(\"Kurtosis of total bedrooms: \", total_bedrooms_kurt)"
      ],
      "metadata": {
        "colab": {
          "base_uri": "https://localhost:8080/"
        },
        "id": "ELZ8cLyy2YCI",
        "outputId": "bc551e91-6091-4650-c2e8-fe41a1e857e9"
      },
      "execution_count": null,
      "outputs": [
        {
          "output_type": "stream",
          "name": "stdout",
          "text": [
            "Mean of total bedrooms:  nan\n",
            "Median of total bedrooms:  nan\n",
            "Mode of total bedrooms:  ModeResult(mode=nan, count=207)\n",
            "Range of total bedrooms:  nan\n",
            "Standard deviation of total bedrooms:  nan\n",
            "Interquatile Range of total bedrooms:  nan\n",
            "Variance of total bedrooms:  nan\n",
            "Skewness of total bedrooms:  nan\n",
            "Kurtosis of total bedrooms:  nan\n"
          ]
        }
      ]
    },
    {
      "cell_type": "code",
      "source": [
        "housing_median_age_mean = np.mean(median_house_value)\n",
        "housing_median_age_median = np.median(median_house_value)\n",
        "housing_median_age_mode = stats.mode(median_house_value)\n",
        "housing_median_age_range = np.max(median_house_value)\n",
        "housing_median_age_var = np.var(median_house_value)\n",
        "housing_median_age_std = np.std(median_house_value)\n",
        "housing_median_age_iqr = stats.iqr(median_house_value)\n",
        "housing_median_age_skew = stats.skew(median_house_value)\n",
        "housing_median_age_kurt = stats.kurtosis(median_house_value)\n",
        "\n",
        "print(\"Mean of housing median age: \", housing_median_age_mean)\n",
        "print(\"Median of housing median age: \",housing_median_age_median)\n",
        "print(\"Mode of housing median age: \", housing_median_age_mode)\n",
        "print(\"Range of housing median age: \", housing_median_age_range)\n",
        "print(\"Standard deviation of housing median age: \", housing_median_age_std)\n",
        "print(\"Interquatile Range of housing median age: \", housing_median_age_iqr)\n",
        "print(\"Variance of housing median age: \", housing_median_age_var)\n",
        "print(\"Skewness of housing median age: \", housing_median_age_skew)\n",
        "print(\"Kurtosis of housing median age: \", housing_median_age_kurt)"
      ],
      "metadata": {
        "colab": {
          "base_uri": "https://localhost:8080/"
        },
        "id": "Zz7Sph8UsMI7",
        "outputId": "6ec9c096-512d-45ce-f298-75bd1bdb7773"
      },
      "execution_count": null,
      "outputs": [
        {
          "output_type": "stream",
          "name": "stdout",
          "text": [
            "Mean of housing median age:  206855.81690891474\n",
            "Median of housing median age:  179700.0\n",
            "Mode of housing median age:  ModeResult(mode=500001.0, count=965)\n",
            "Range of housing median age:  500001.0\n",
            "Standard deviation of housing median age:  115392.82040412253\n",
            "Interquatile Range of housing median age:  145125.0\n",
            "Variance of housing median age:  13315503000.818077\n",
            "Skewness of housing median age:  0.9776922140978416\n",
            "Kurtosis of housing median age:  0.3275001388119616\n"
          ]
        }
      ]
    },
    {
      "cell_type": "code",
      "source": [
        "median_house_value_mean = np.mean(median_house_value)\n",
        "median_house_value_median = np.median(median_house_value)\n",
        "median_house_value_mode = stats.mode(median_house_value)\n",
        "median_house_value_range = np.max(median_house_value)\n",
        "median_house_value_var = np.var(median_house_value)\n",
        "median_house_value_std = np.std(median_house_value)\n",
        "median_house_value_iqr = stats.iqr(median_house_value)\n",
        "median_house_value_skew = stats.skew(median_house_value)\n",
        "median_house_value_kurt = stats.kurtosis(median_house_value)\n",
        "\n",
        "print(\"Mean of median house value: \", median_house_value_mean)\n",
        "print(\"Median of median house value: \",median_house_value_median)\n",
        "print(\"Mode of median house value: \", median_house_value_mode)\n",
        "print(\"Range of median house value: \", median_house_value_range)\n",
        "print(\"Standard deviation of median house value: \", median_house_value_std)\n",
        "print(\"Interquatile Range of median house value: \", median_house_value_iqr)\n",
        "print(\"Variance of median house value: \", median_house_value_var)\n",
        "print(\"Skewness of median house value: \", median_house_value_skew)\n",
        "print(\"Kurtosis of median house value: \", median_house_value_kurt)"
      ],
      "metadata": {
        "colab": {
          "base_uri": "https://localhost:8080/"
        },
        "id": "4SktPcXy37a9",
        "outputId": "043f1e43-9796-46de-eda3-9e7aae6f41a7"
      },
      "execution_count": null,
      "outputs": [
        {
          "output_type": "stream",
          "name": "stdout",
          "text": [
            "Mean of median house value:  206855.81690891474\n",
            "Median of median house value:  179700.0\n",
            "Mode of median house value:  ModeResult(mode=500001.0, count=965)\n",
            "Range of median house value:  500001.0\n",
            "Standard deviation of median house value:  115392.82040412253\n",
            "Interquatile Range of median house value:  145125.0\n",
            "Variance of median house value:  13315503000.818077\n",
            "Skewness of median house value:  0.9776922140978416\n",
            "Kurtosis of median house value:  0.3275001388119616\n"
          ]
        }
      ]
    }
  ]
}